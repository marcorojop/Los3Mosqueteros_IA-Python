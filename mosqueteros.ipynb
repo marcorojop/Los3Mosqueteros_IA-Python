{
 "cells": [
  {
   "cell_type": "code",
   "execution_count": 36,
   "metadata": {},
   "outputs": [
    {
     "name": "stdout",
     "output_type": "stream",
     "text": [
      "\n",
      "-----------------------------------------\n",
      "|   G   |   G   |   G   |   G   |   M   |   \n",
      "-----------------------------------------\n",
      "|   G   |   G   |   G   |   G   |   G   |   \n",
      "-----------------------------------------\n",
      "|   G   |   G   |   M   |   G   |   G   |   \n",
      "-----------------------------------------\n",
      "|   G   |   G   |   G   |   G   |   G   |   \n",
      "-----------------------------------------\n",
      "|   M   |   G   |   G   |   G   |   G   |   \n",
      "-----------------------------------------\n"
     ]
    }
   ],
   "source": [
    "# Crea un nuevo tablero\n",
    "def crear_tablero():\n",
    "    tablero = [[1, 1, 1, 1, 10], [1, 1, 1, 1, 1], [1, 1, 10, 1, 1], [1, 1, 1, 1, 1], [10, 1, 1, 1, 1]]\n",
    "    return tablero\n",
    "\n",
    "#Convierte valores de 1 -> G e 10 -> M\n",
    "def convertir_a_letras(v):\n",
    "    if (v == 1): return 'G'\n",
    "    elif (v == 10): return 'M'\n",
    "    elif (v == 0):  return \" \"\n",
    "\n",
    "# Imprime el tablero\n",
    "def imprimir_tablero(tablero):\n",
    "    print(\"\\n-----------------------------------------\")\n",
    "    for i in range(len(tablero)):\n",
    "        print(\"|\", end=\"   \")\n",
    "        for j in range(len(tablero[i])):\n",
    "            print(convertir_a_letras(tablero[i][j]), end=\"   |   \")\n",
    "        print(\"\\n-----------------------------------------\")\n",
    "    \n",
    "imprimir_tablero(crear_tablero())\n",
    "\n"
   ]
  }
 ],
 "metadata": {
  "language_info": {
   "name": "python"
  },
  "orig_nbformat": 4
 },
 "nbformat": 4,
 "nbformat_minor": 2
}
