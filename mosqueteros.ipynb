{
 "cells": [
  {
   "cell_type": "markdown",
   "id": "ab90f640",
   "metadata": {},
   "source": [
    "#### Creacion del tablero"
   ]
  },
  {
   "cell_type": "code",
   "execution_count": 4,
   "id": "243a7b68",
   "metadata": {},
   "outputs": [
    {
     "name": "stdout",
     "output_type": "stream",
     "text": [
      "-----------------------------------------\n",
      "|   G   |   G   |   G   |   G   |   M   |   \n",
      "-----------------------------------------\n",
      "|   G   |   G   |   G   |   G   |   G   |   \n",
      "-----------------------------------------\n",
      "|   G   |   G   |   M   |   G   |   G   |   \n",
      "-----------------------------------------\n",
      "|   G   |   G   |   G   |   G   |   G   |   \n",
      "-----------------------------------------\n",
      "|   M   |   G   |   G   |   G   |   G   |   \n",
      "-----------------------------------------\n",
      "\n",
      "\n"
     ]
    }
   ],
   "source": [
    "# Construccion tablero\n",
    "def crear_tablero():\n",
    "    tablero = [[1, 1, 1, 1, 10], [1, 1, 1, 1, 1], [1, 1, 10, 1, 1], [1, 1, 1, 1, 1], [10, 1, 1, 1, 1]]\n",
    "    return tablero \n",
    "\n",
    "#Convierte valores de 1 -> G e 10 -> M\n",
    "def convertir_a_letras(v):\n",
    "    if (v == 1): return 'G'\n",
    "    elif (v == 10): return 'M'\n",
    "    elif (v == 0):  return \" \"\n",
    "\n",
    "# Imprime el tablero\n",
    "def imprimir_tablero(tablero):\n",
    "    print(\"-----------------------------------------\")\n",
    "    for i in range(len(tablero)):\n",
    "        print(\"|\", end=\"   \")\n",
    "        for j in range(len(tablero[i])):\n",
    "            print(convertir_a_letras(tablero[i][j]), end=\"   |   \")\n",
    "        print(\"\\n-----------------------------------------\")\n",
    "    print(\"\\n\")\n",
    "    \n",
    "imprimir_tablero(crear_tablero())"
   ]
  },
  {
   "cell_type": "markdown",
   "id": "ef808868",
   "metadata": {},
   "source": [
    "#### Validacion y conversion de coordenadas"
   ]
  },
  {
   "cell_type": "code",
   "execution_count": 5,
   "id": "b498adbc",
   "metadata": {},
   "outputs": [
    {
     "name": "stdout",
     "output_type": "stream",
     "text": [
      "14\n"
     ]
    },
    {
     "data": {
      "text/plain": [
       "(1, 0)"
      ]
     },
     "execution_count": 5,
     "metadata": {},
     "output_type": "execute_result"
    }
   ],
   "source": [
    "# Valida que las coordenadas sean validas\n",
    "def valida_coordenadas(x,y):\n",
    "    cor_validas = [[x,y+1], [x,y-1], [x-1,y], [x+1,y]]\n",
    "    coordenadas = []\n",
    "    for i in cor_validas:\n",
    "        if (i[0] >= 0 and i[0] < 5) and ((i[1] >= 0 and i[1] < 5)):\n",
    "            coordenadas.append(i)\n",
    "    return coordenadas\n",
    "\n",
    "# Convertir coordenadas(x, y) de 5*5 a valores de tablero de 1 a 25\n",
    "def convertir_coordenadas(x, y):\n",
    "    if (x >= 0 and x < 5):\n",
    "        if (y >= 0 and y < 5):\n",
    "            return ((x * 5) + y + 1)\n",
    "\n",
    "# Convertir valores de tablero de 1 a 25 a coordenadas(x, y) de 5*5\n",
    "def convertir_coordenadas_inversa(x):\n",
    "    if (x >= 0 and x <= 25):\n",
    "        a = (x - 1) // 5\n",
    "        b = (x - 1) % 5\n",
    "        return (a, b)\n",
    "\n",
    "print(convertir_coordenadas(2,3))\n",
    "convertir_coordenadas_inversa(6)"
   ]
  },
  {
   "cell_type": "markdown",
   "id": "0326685c",
   "metadata": {},
   "source": [
    "#### Movimiento MOSQUETERO HUMANO"
   ]
  },
  {
   "cell_type": "code",
   "execution_count": 14,
   "id": "7365ab9a",
   "metadata": {},
   "outputs": [],
   "source": [
    "def validarMovimientoMosqueteroHumano(x,y,tablero):\n",
    "    # Posiciones para moverse\n",
    "    posicion_valida = False\n",
    "    cor_validas = valida_coordenadas(x, y)\n",
    "\n",
    "    post_new = int(input(\"Ingrese la NUEVA POSICION: \"))\n",
    "    list(convertir_coordenadas_inversa(post_new))\n",
    "    x1 = convertir_coordenadas_inversa(post_new)[0]\n",
    "    y1 = convertir_coordenadas_inversa(post_new)[1]\n",
    "    cor = [x1, y1]\n",
    "    # Validando posicion\n",
    "    while(posicion_valida == False):\n",
    "        if (cor in cor_validas):\n",
    "            posicion_valida = True\n",
    "        else:\n",
    "            print(\"\\t¡MOVIMIENTO INVALIDO!\")\n",
    "            post_new = int(input(\"Ingrese la NUEVA POSICION: \"))\n",
    "            list(convertir_coordenadas_inversa(post_new))\n",
    "            x1 = convertir_coordenadas_inversa(post_new)[0]\n",
    "            y1 = convertir_coordenadas_inversa(post_new)[1]\n",
    "            cor = [x1, y1] \n",
    "    if tablero[x1][y1] == 1:\n",
    "        tablero[x1][y1] = 10\n",
    "        tablero[x][y] = 0\n",
    "        return tablero\n",
    "    else:\n",
    "        print(\"\\tNo puede mover el MOSQUETERO a esa POSICION\")\n",
    "        tablero = validarMovimientoMosqueteroHumano(x,y,tablero)\n",
    "        return tablero"
   ]
  },
  {
   "cell_type": "code",
   "execution_count": 15,
   "id": "aed211ca",
   "metadata": {},
   "outputs": [],
   "source": [
    "def movimientoMosqueteroHumano(tablero):\n",
    "    pos_act = int(input(\"Ingrese la POSICION ACTUAL: \"))\n",
    "    list(convertir_coordenadas_inversa(pos_act))\n",
    "    x = convertir_coordenadas_inversa(pos_act)[0]\n",
    "    y = convertir_coordenadas_inversa(pos_act)[1]\n",
    "    pos = tablero[x][y]\n",
    "    if pos == 10: # Seleccionas a un MOSQUETERO\n",
    "        # Si hay espacios vacios a su alrededor NO se puede mover\n",
    "        if (tablero[x][y+1] == 0 and tablero[x][y-1] == 0 and tablero[x-1][y] == 0 and tablero[x+1][y] == 0):\n",
    "            print(\"\\tNo puede mover el MOSQUETERO porque NO hay GUARDIANES a su alrededor\")\n",
    "            nuevo_tablero = movimientoMosqueteroHumano(tablero)\n",
    "            return nuevo_tablero\n",
    "        else:\n",
    "            # Mostrar posibles movimientos\n",
    "            print(\"\\tPosibles movimientos: \", end=\"\")\n",
    "            cor_validas = valida_coordenadas(x, y)\n",
    "            for i in cor_validas:\n",
    "                if (tablero[i[0]][i[1]] == 1):\n",
    "                    print(convertir_coordenadas(i[0], i[1]), end=\"  \")\n",
    "            print()        \n",
    "            nuevo_tablero = validarMovimientoMosqueteroHumano(x,y,tablero)\n",
    "            return nuevo_tablero\n",
    "    else:\n",
    "        print(\"\\tNo selecciono un MOSQUETERO, ¡Intentelo de nuevo!\")\n",
    "        nuevo_tablero = movimientoMosqueteroHumano(tablero)\n",
    "        return nuevo_tablero"
   ]
  },
  {
   "cell_type": "code",
   "execution_count": null,
   "id": "d0abd54f",
   "metadata": {},
   "outputs": [],
   "source": [
    "def movimientoMosqueteroHumano(tablero):\n",
    "    pos_act = int(input(\"Ingrese la POSICION ACTUAL: \"))\n",
    "    list(convertir_coordenadas_inversa(pos_act))\n",
    "    x = convertir_coordenadas_inversa(pos_act)[0]\n",
    "    y = convertir_coordenadas_inversa(pos_act)[1]\n",
    "    pos = tablero[x][y]\n",
    "    if pos == 10:\n",
    "        # Mostrar posibles movimientos\n",
    "        print(\"\\tPosibles movimientos: \", end=\"\")\n",
    "        cor_validas = valida_coordenadas(x, y)\n",
    "        for i in cor_validas:\n",
    "            if (tablero[i[0]][i[1]] == 1):\n",
    "                print(convertir_coordenadas(i[0], i[1]), end=\"  \")\n",
    "        print()        \n",
    "        nuevo_tablero = validarMovimientoMosqueteroHumano(x,y,tablero)\n",
    "        return nuevo_tablero\n",
    "    else:\n",
    "        print(\"\\tNo selecciono un MOSQUETERO, ¡Intentelo de nuevo!\")\n",
    "        nuevo_tablero = movimientoMosqueteroHumano(tablero)\n",
    "        return nuevo_tablero"
   ]
  },
  {
   "cell_type": "code",
   "execution_count": 16,
   "id": "9fd1ff0f",
   "metadata": {},
   "outputs": [
    {
     "name": "stdout",
     "output_type": "stream",
     "text": [
      "\t\tJUEGO LOS TRES MOSQUETEROS\n",
      "\n",
      "-----------------------------------------\n",
      "|   G   |       |   G   |   G   |   M   |   \n",
      "-----------------------------------------\n",
      "|   G   |   G   |   G   |   G   |   G   |   \n",
      "-----------------------------------------\n",
      "|   G   |       |   M   |   G   |   G   |   \n",
      "-----------------------------------------\n",
      "|   G   |   G   |       |   G   |   G   |   \n",
      "-----------------------------------------\n",
      "|   M   |   G   |       |   G   |   G   |   \n",
      "-----------------------------------------\n",
      "\n",
      "\n",
      "\tMovimiento MOSQUETERO\n",
      "\tNo puede mover el MOSQUETERO porque NO hay GUARDIANES a su alrededor\n",
      "\tPosibles movimientos: 14  8  \n",
      "-----------------------------------------\n",
      "|   G   |       |   G   |   G   |   M   |   \n",
      "-----------------------------------------\n",
      "|   G   |   G   |   G   |   G   |   G   |   \n",
      "-----------------------------------------\n",
      "|   G   |       |       |   M   |   G   |   \n",
      "-----------------------------------------\n",
      "|   G   |   G   |       |   G   |   G   |   \n",
      "-----------------------------------------\n",
      "|   M   |   G   |       |   G   |   G   |   \n",
      "-----------------------------------------\n",
      "\n",
      "\n"
     ]
    }
   ],
   "source": [
    "# PRUEBAS\n",
    "tablero = [[1, 0, 1, 1, 10], [1, 1, 1, 1, 1], [1, 0, 10, 1, 1], [1, 1, 0, 1, 1], [10, 1, 0, 1, 1]]\n",
    "print(\"\\t\\tJUEGO LOS TRES MOSQUETEROS\\n\")\n",
    "imprimir_tablero(tablero)\n",
    "print(\"\\tMovimiento MOSQUETERO\")\n",
    "imprimir_tablero(movimientoMosqueteroHumano(tablero)) # Mosquetero"
   ]
  },
  {
   "cell_type": "markdown",
   "id": "2d7e601f",
   "metadata": {},
   "source": [
    "#### Movimiento GUARDIA HUMANO"
   ]
  },
  {
   "cell_type": "code",
   "execution_count": 143,
   "id": "fd114efa",
   "metadata": {},
   "outputs": [],
   "source": [
    "def validarMovimientoGuardiaHumano(x,y,tablero):\n",
    "    # Posiciones para moverse\n",
    "    posicion_valida = False\n",
    "    cor_validas = valida_coordenadas(x,y)\n",
    "   \n",
    "    post_new = int(input(\"Ingrese la NUEVA POSICION: \"))\n",
    "    list(convertir_coordenadas_inversa(post_new))\n",
    "    x1 = convertir_coordenadas_inversa(post_new)[0]\n",
    "    y1 = convertir_coordenadas_inversa(post_new)[1]\n",
    "    cor = [x1, y1]\n",
    "    # Validando posicion\n",
    "    while(posicion_valida == False):\n",
    "        if (cor in cor_validas):\n",
    "            posicion_valida = True\n",
    "        else:\n",
    "            print(\"\\tMovimiento invalido\")\n",
    "            post_new = int(input(\"Ingrese la NUEVA POSICION: \"))\n",
    "            list(convertir_coordenadas_inversa(post_new))\n",
    "            x1 = convertir_coordenadas_inversa(post_new)[0]\n",
    "            y1 = convertir_coordenadas_inversa(post_new)[1]\n",
    "            cor = [x1, y1]  \n",
    "    if tablero[x1][y1] == 0:\n",
    "        tablero[x1][y1] = 1\n",
    "        tablero[x][y] = 0\n",
    "        return tablero\n",
    "    else:\n",
    "        print(\"\\tNo puede mover el GUARDIA a esa posicion\")\n",
    "        tablero = validarMovimientoGuardiaHumano(x,y,tablero)\n",
    "        return tablero"
   ]
  },
  {
   "cell_type": "code",
   "execution_count": 144,
   "id": "5ff358bb",
   "metadata": {},
   "outputs": [],
   "source": [
    "def movimientoGuardiaHumano(tablero):\n",
    "    pos_act = int(input(\"Ingrese la POSICION ACTUAL: \"))\n",
    "    list(convertir_coordenadas_inversa(pos_act))\n",
    "    x = convertir_coordenadas_inversa(pos_act)[0]\n",
    "    y = convertir_coordenadas_inversa(pos_act)[1]\n",
    "    pos = tablero[x][y]\n",
    "    if pos == 1:\n",
    "        # Mostrar posibles movimientos\n",
    "        print(\"\\tPosibles movimientos: \", end=\"\")\n",
    "        cor_validas = valida_coordenadas(x, y)\n",
    "        for i in cor_validas:\n",
    "            if (tablero[i[0]][i[1]] == 0):\n",
    "                if (tablero[i[0]][i[1]] == 0):\n",
    "                    print(convertir_coordenadas(i[0], i[1]), end=\"  \")\n",
    "        print()\n",
    "        nuevo_tablero = validarMovimientoGuardiaHumano(x,y,tablero)\n",
    "        return nuevo_tablero\n",
    "    else:\n",
    "        print(\"No selecciono un GUARDIA, ¡Intentelo de nuevo!\")\n",
    "        nuevo_tablero = movimientoGuardiaHumano(tablero)\n",
    "        return nuevo_tablero"
   ]
  },
  {
   "cell_type": "markdown",
   "id": "ddbab650",
   "metadata": {},
   "source": [
    "#### Pruebas"
   ]
  },
  {
   "cell_type": "code",
   "execution_count": 9,
   "id": "d10aa821",
   "metadata": {},
   "outputs": [
    {
     "name": "stdout",
     "output_type": "stream",
     "text": [
      "\t\tJUEGO LOS TRES MOSQUETEROS\n",
      "\n",
      "-----------------------------------------\n",
      "|   G   |   G   |   G   |   G   |   M   |   \n",
      "-----------------------------------------\n",
      "|   G   |   G   |   G   |   G   |   G   |   \n",
      "-----------------------------------------\n",
      "|   G   |   G   |   M   |   G   |   G   |   \n",
      "-----------------------------------------\n",
      "|   G   |   G   |   G   |   G   |   G   |   \n",
      "-----------------------------------------\n",
      "|   M   |   G   |   G   |   G   |   G   |   \n",
      "-----------------------------------------\n",
      "\n",
      "\n",
      "\tMovimiento MOSQUETERO\n",
      "Posibles movimientos: \n",
      "14\n",
      "12\n",
      "8\n",
      "18\n"
     ]
    },
    {
     "ename": "ValueError",
     "evalue": "invalid literal for int() with base 10: ''",
     "output_type": "error",
     "traceback": [
      "\u001b[1;31m---------------------------------------------------------------------------\u001b[0m",
      "\u001b[1;31mValueError\u001b[0m                                Traceback (most recent call last)",
      "\u001b[1;32mc:\\Users\\marolo\\OneDrive\\Documentos\\APRENDER\\Proyecto-IA\\mosqueteros.ipynb Cell 12'\u001b[0m in \u001b[0;36m<cell line: 6>\u001b[1;34m()\u001b[0m\n\u001b[0;32m      <a href='vscode-notebook-cell:/c%3A/Users/marolo/OneDrive/Documentos/APRENDER/Proyecto-IA/mosqueteros.ipynb#ch0000011?line=3'>4</a>\u001b[0m imprimir_tablero(tablero)\n\u001b[0;32m      <a href='vscode-notebook-cell:/c%3A/Users/marolo/OneDrive/Documentos/APRENDER/Proyecto-IA/mosqueteros.ipynb#ch0000011?line=4'>5</a>\u001b[0m \u001b[39mprint\u001b[39m(\u001b[39m\"\u001b[39m\u001b[39m\\t\u001b[39;00m\u001b[39mMovimiento MOSQUETERO\u001b[39m\u001b[39m\"\u001b[39m)\n\u001b[1;32m----> <a href='vscode-notebook-cell:/c%3A/Users/marolo/OneDrive/Documentos/APRENDER/Proyecto-IA/mosqueteros.ipynb#ch0000011?line=5'>6</a>\u001b[0m imprimir_tablero(movimientoMosqueteroHumano(tablero)) \u001b[39m# Mosquetero\u001b[39;00m\n\u001b[0;32m      <a href='vscode-notebook-cell:/c%3A/Users/marolo/OneDrive/Documentos/APRENDER/Proyecto-IA/mosqueteros.ipynb#ch0000011?line=6'>7</a>\u001b[0m \u001b[39mprint\u001b[39m(\u001b[39m\"\u001b[39m\u001b[39m\\t\u001b[39;00m\u001b[39mMovimiento GUARDIA\u001b[39m\u001b[39m\"\u001b[39m)\n\u001b[0;32m      <a href='vscode-notebook-cell:/c%3A/Users/marolo/OneDrive/Documentos/APRENDER/Proyecto-IA/mosqueteros.ipynb#ch0000011?line=7'>8</a>\u001b[0m imprimir_tablero(movimientoGuardiaHumano(tablero))\n",
      "\u001b[1;32mc:\\Users\\marolo\\OneDrive\\Documentos\\APRENDER\\Proyecto-IA\\mosqueteros.ipynb Cell 7'\u001b[0m in \u001b[0;36mmovimientoMosqueteroHumano\u001b[1;34m(tablero)\u001b[0m\n\u001b[0;32m     <a href='vscode-notebook-cell:/c%3A/Users/marolo/OneDrive/Documentos/APRENDER/Proyecto-IA/mosqueteros.ipynb#ch0000006?line=10'>11</a>\u001b[0m     \u001b[39mfor\u001b[39;00m i \u001b[39min\u001b[39;00m cor_validas:\n\u001b[0;32m     <a href='vscode-notebook-cell:/c%3A/Users/marolo/OneDrive/Documentos/APRENDER/Proyecto-IA/mosqueteros.ipynb#ch0000006?line=11'>12</a>\u001b[0m         \u001b[39mprint\u001b[39m(convertir_coordenadas(i[\u001b[39m0\u001b[39m], i[\u001b[39m1\u001b[39m]))\n\u001b[1;32m---> <a href='vscode-notebook-cell:/c%3A/Users/marolo/OneDrive/Documentos/APRENDER/Proyecto-IA/mosqueteros.ipynb#ch0000006?line=12'>13</a>\u001b[0m     nuevo_tablero \u001b[39m=\u001b[39m validarMovimientoMosqueteroHumano(x,y,tablero)\n\u001b[0;32m     <a href='vscode-notebook-cell:/c%3A/Users/marolo/OneDrive/Documentos/APRENDER/Proyecto-IA/mosqueteros.ipynb#ch0000006?line=13'>14</a>\u001b[0m     \u001b[39mreturn\u001b[39;00m nuevo_tablero\n\u001b[0;32m     <a href='vscode-notebook-cell:/c%3A/Users/marolo/OneDrive/Documentos/APRENDER/Proyecto-IA/mosqueteros.ipynb#ch0000006?line=14'>15</a>\u001b[0m \u001b[39melse\u001b[39;00m:\n",
      "\u001b[1;32mc:\\Users\\marolo\\OneDrive\\Documentos\\APRENDER\\Proyecto-IA\\mosqueteros.ipynb Cell 6'\u001b[0m in \u001b[0;36mvalidarMovimientoMosqueteroHumano\u001b[1;34m(x, y, tablero)\u001b[0m\n\u001b[0;32m      <a href='vscode-notebook-cell:/c%3A/Users/marolo/OneDrive/Documentos/APRENDER/Proyecto-IA/mosqueteros.ipynb#ch0000005?line=2'>3</a>\u001b[0m posicion_valida \u001b[39m=\u001b[39m \u001b[39mFalse\u001b[39;00m\n\u001b[0;32m      <a href='vscode-notebook-cell:/c%3A/Users/marolo/OneDrive/Documentos/APRENDER/Proyecto-IA/mosqueteros.ipynb#ch0000005?line=3'>4</a>\u001b[0m cor_validas \u001b[39m=\u001b[39m valida_coordenadas(x, y)\n\u001b[1;32m----> <a href='vscode-notebook-cell:/c%3A/Users/marolo/OneDrive/Documentos/APRENDER/Proyecto-IA/mosqueteros.ipynb#ch0000005?line=5'>6</a>\u001b[0m post_new \u001b[39m=\u001b[39m \u001b[39mint\u001b[39;49m(\u001b[39minput\u001b[39;49m(\u001b[39m\"\u001b[39;49m\u001b[39mIngrese la NUEVA POSICION: \u001b[39;49m\u001b[39m\"\u001b[39;49m))\n\u001b[0;32m      <a href='vscode-notebook-cell:/c%3A/Users/marolo/OneDrive/Documentos/APRENDER/Proyecto-IA/mosqueteros.ipynb#ch0000005?line=6'>7</a>\u001b[0m \u001b[39mlist\u001b[39m(convertir_coordenadas_inversa(post_new))\n\u001b[0;32m      <a href='vscode-notebook-cell:/c%3A/Users/marolo/OneDrive/Documentos/APRENDER/Proyecto-IA/mosqueteros.ipynb#ch0000005?line=7'>8</a>\u001b[0m x1 \u001b[39m=\u001b[39m convertir_coordenadas_inversa(post_new)[\u001b[39m0\u001b[39m]\n",
      "\u001b[1;31mValueError\u001b[0m: invalid literal for int() with base 10: ''"
     ]
    }
   ],
   "source": [
    "# PRUEBAS\n",
    "tablero = [[1, 0, 1, 1, 10], [1, 1, 1, 1, 1], [1, 0, 10, 1, 1], [1, 1, 0, 1, 1], [10, 1, 0, 1, 1]]\n",
    "print(\"\\t\\tJUEGO LOS TRES MOSQUETEROS\\n\")\n",
    "imprimir_tablero(tablero)\n",
    "print(\"\\tMovimiento MOSQUETERO\")\n",
    "imprimir_tablero(movimientoMosqueteroHumano(tablero)) # Mosquetero\n",
    "print(\"\\tMovimiento GUARDIA\")\n",
    "imprimir_tablero(movimientoGuardiaHumano(tablero)) # Guardia"
   ]
  },
  {
   "cell_type": "markdown",
   "id": "bc281f23",
   "metadata": {},
   "source": [
    "#### Movimiento MOSQUETERO MAQUINA (Estrategia aleatoria)"
   ]
  },
  {
   "cell_type": "code",
   "execution_count": null,
   "id": "1ae3ef74",
   "metadata": {},
   "outputs": [],
   "source": []
  },
  {
   "cell_type": "code",
   "execution_count": null,
   "id": "3ae70e55",
   "metadata": {},
   "outputs": [],
   "source": []
  }
 ],
 "metadata": {
  "kernelspec": {
   "display_name": "Python 3.9.12 ('IA')",
   "language": "python",
   "name": "python3"
  },
  "language_info": {
   "codemirror_mode": {
    "name": "ipython",
    "version": 3
   },
   "file_extension": ".py",
   "mimetype": "text/x-python",
   "name": "python",
   "nbconvert_exporter": "python",
   "pygments_lexer": "ipython3",
   "version": "3.9.12"
  },
  "vscode": {
   "interpreter": {
    "hash": "47a1649adfc58314e58c4d276ffe3ebc8bd116eb46a6f09ef850e338f9461feb"
   }
  }
 },
 "nbformat": 4,
 "nbformat_minor": 5
}
