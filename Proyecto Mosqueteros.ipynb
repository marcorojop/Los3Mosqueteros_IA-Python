{
 "cells": [
  {
   "cell_type": "markdown",
   "id": "ab90f640",
   "metadata": {},
   "source": [
    "#### Creacion del tablero"
   ]
  },
  {
   "cell_type": "code",
   "execution_count": 140,
   "id": "243a7b68",
   "metadata": {},
   "outputs": [
    {
     "name": "stdout",
     "output_type": "stream",
     "text": [
      "-----------------------------------------\n",
      "|   G   |   G   |   G   |   G   |   M   |   \n",
      "-----------------------------------------\n",
      "|   G   |   G   |   G   |   G   |   G   |   \n",
      "-----------------------------------------\n",
      "|   G   |   G   |   M   |   G   |   G   |   \n",
      "-----------------------------------------\n",
      "|   G   |   G   |   G   |   G   |   G   |   \n",
      "-----------------------------------------\n",
      "|   M   |   G   |   G   |   G   |   G   |   \n",
      "-----------------------------------------\n",
      "\n",
      "\n"
     ]
    }
   ],
   "source": [
    "# Construccion tablero\n",
    "def crear_tablero():\n",
    "    tablero = [[1, 1, 1, 1, 10], [1, 1, 1, 1, 1], [1, 1, 10, 1, 1], [1, 1, 1, 1, 1], [10, 1, 1, 1, 1]]\n",
    "    return tablero \n",
    "\n",
    "#Convierte valores de 1 -> G e 10 -> M\n",
    "def convertir_a_letras(v):\n",
    "    if (v == 1): return 'G'\n",
    "    elif (v == 10): return 'M'\n",
    "    elif (v == 0):  return \" \"\n",
    "\n",
    "# Imprime el tablero\n",
    "def imprimir_tablero(tablero):\n",
    "    print(\"-----------------------------------------\")\n",
    "    for i in range(len(tablero)):\n",
    "        print(\"|\", end=\"   \")\n",
    "        for j in range(len(tablero[i])):\n",
    "            print(convertir_a_letras(tablero[i][j]), end=\"   |   \")\n",
    "        print(\"\\n-----------------------------------------\")\n",
    "    print(\"\\n\")\n",
    "    \n",
    "imprimir_tablero(crear_tablero())"
   ]
  },
  {
   "cell_type": "markdown",
   "id": "ef808868",
   "metadata": {},
   "source": [
    "#### Validacion y conversion de coordenadas"
   ]
  },
  {
   "cell_type": "code",
   "execution_count": 123,
   "id": "b498adbc",
   "metadata": {},
   "outputs": [
    {
     "name": "stdout",
     "output_type": "stream",
     "text": [
      "14\n"
     ]
    },
    {
     "data": {
      "text/plain": [
       "(1, 0)"
      ]
     },
     "execution_count": 123,
     "metadata": {},
     "output_type": "execute_result"
    }
   ],
   "source": [
    "# Valida que las coordenadas sean validas\n",
    "def valida_coordenadas(x,y):\n",
    "    cor_validas = [[x,y+1], [x,y-1], [x-1,y], [x+1,y]]\n",
    "    coordenadas = []\n",
    "    for i in cor_validas:\n",
    "        if (i[0] >= 0 and i[0] < 5) and ((i[1] >= 0 and i[1] < 5)):\n",
    "            coordenadas.append(i)\n",
    "    return coordenadas\n",
    "\n",
    "# Convertir coordenadas(x, y) de 5*5 a valores de tablero de 1 a 25\n",
    "def convertir_coordenadas(x, y):\n",
    "    if (x >= 0 and x < 5):\n",
    "        if (y >= 0 and y < 5):\n",
    "            return ((x * 5) + y + 1)\n",
    "\n",
    "# Convertir valores de tablero de 1 a 25 a coordenadas(x, y) de 5*5\n",
    "def convertir_coordenadas_inversa(x):\n",
    "    if (x >= 0 and x <= 25):\n",
    "        a = (x - 1) // 5\n",
    "        b = (x - 1) % 5\n",
    "        return (a, b)\n",
    "\n",
    "print(convertir_coordenadas(2,3))\n",
    "convertir_coordenadas_inversa(6)"
   ]
  },
  {
   "cell_type": "markdown",
   "id": "0326685c",
   "metadata": {},
   "source": [
    "#### Movimiento MOSQUETERO"
   ]
  },
  {
   "cell_type": "code",
   "execution_count": 132,
   "id": "7365ab9a",
   "metadata": {},
   "outputs": [],
   "source": [
    "def validarMovimientoMosqueteroHumano(x,y,tablero):\n",
    "    # Posiciones para moverse\n",
    "    posicion_valida = False\n",
    "    cor_validas = valida_coordenadas(x, y)\n",
    "\n",
    "    post_new = int(input(\"Ingrese la NUEVA POSICION: \"))\n",
    "    list(convertir_coordenadas_inversa(post_new))\n",
    "    x1 = convertir_coordenadas_inversa(post_new)[0]\n",
    "    y1 = convertir_coordenadas_inversa(post_new)[1]\n",
    "    cor = [x1, y1]\n",
    "    # Validando posicion\n",
    "    while(posicion_valida == False):\n",
    "        if (cor in cor_validas):\n",
    "            posicion_valida = True\n",
    "        else:\n",
    "            print(\"¡MOVIMIENTO INVALIDO!\")\n",
    "            post_new = int(input(\"Ingrese la NUEVA POSICION: \"))\n",
    "            list(convertir_coordenadas_inversa(post_new))\n",
    "            x1 = convertir_coordenadas_inversa(post_new)[0]\n",
    "            y1 = convertir_coordenadas_inversa(post_new)[1]\n",
    "            cor = [x1, y1] \n",
    "    if tablero[x1][y1] == 1:\n",
    "        tablero[x1][y1] = 10\n",
    "        tablero[x][y] = 0\n",
    "        return tablero\n",
    "    else:\n",
    "        print(\"No puede mover el MOSQUETERO a esa POSICION\")\n",
    "        tablero = validarMovimientoMosqueteroHumano(x,y,tablero)\n",
    "        return tablero"
   ]
  },
  {
   "cell_type": "code",
   "execution_count": 133,
   "id": "aed211ca",
   "metadata": {},
   "outputs": [],
   "source": [
    "def movimientoMosqueteroHumano(tablero):\n",
    "    pos_act = int(input(\"Ingrese la POSICION ACTUAL: \"))\n",
    "    list(convertir_coordenadas_inversa(pos_act))\n",
    "    x = convertir_coordenadas_inversa(pos_act)[0]\n",
    "    y = convertir_coordenadas_inversa(pos_act)[1]\n",
    "    pos = tablero[x][y]\n",
    "    if pos == 10:\n",
    "        nuevo_tablero = validarMovimientoMosqueteroHumano(x,y,tablero)\n",
    "        return nuevo_tablero\n",
    "    else:\n",
    "        print(\"No selecciono un MOSQUETERO, ¡Intentelo de nuevo!\")\n",
    "        nuevo_tablero = movimientoMosqueteroHumano(tablero)\n",
    "        return nuevo_tablero"
   ]
  },
  {
   "cell_type": "markdown",
   "id": "2d7e601f",
   "metadata": {},
   "source": [
    "#### Movimiento GUARDIA"
   ]
  },
  {
   "cell_type": "code",
   "execution_count": 143,
   "id": "fd114efa",
   "metadata": {},
   "outputs": [],
   "source": [
    "def validarMovimientoGuardiaHumano(x,y,tablero):\n",
    "    # Posiciones para moverse\n",
    "    posicion_valida = False\n",
    "    cor_validas = valida_coordenadas(x,y)\n",
    "   \n",
    "    post_new = int(input(\"Ingrese la NUEVA POSICION: \"))\n",
    "    list(convertir_coordenadas_inversa(post_new))\n",
    "    x1 = convertir_coordenadas_inversa(post_new)[0]\n",
    "    y1 = convertir_coordenadas_inversa(post_new)[1]\n",
    "    cor = [x1, y1]\n",
    "    # Validando posicion\n",
    "    while(posicion_valida == False):\n",
    "        if (cor in cor_validas):\n",
    "            posicion_valida = True\n",
    "        else:\n",
    "            print(\"Movimiento invalido\")\n",
    "            post_new = int(input(\"Ingrese la NUEVA POSICION: \"))\n",
    "            list(convertir_coordenadas_inversa(post_new))\n",
    "            x1 = convertir_coordenadas_inversa(post_new)[0]\n",
    "            y1 = convertir_coordenadas_inversa(post_new)[1]\n",
    "            cor = [x1, y1]  \n",
    "    if tablero[x1][y1] == 0:\n",
    "        tablero[x1][y1] = 1\n",
    "        tablero[x][y] = 0\n",
    "        return tablero\n",
    "    else:\n",
    "        print(\"No puede mover el GUARDIA a esa posicion\")\n",
    "        tablero = validarMovimientoGuardiaHumano(x,y,tablero)\n",
    "        return tablero"
   ]
  },
  {
   "cell_type": "code",
   "execution_count": 144,
   "id": "5ff358bb",
   "metadata": {},
   "outputs": [],
   "source": [
    "def movimientoGuardiaHumano(tablero):\n",
    "    pos_act = int(input(\"Ingrese la POSICION ACTUAL: \"))\n",
    "    list(convertir_coordenadas_inversa(pos_act))\n",
    "    x = convertir_coordenadas_inversa(pos_act)[0]\n",
    "    y = convertir_coordenadas_inversa(pos_act)[1]\n",
    "    pos = tablero[x][y]\n",
    "    if pos == 1:\n",
    "        nuevo_tablero = validarMovimientoGuardiaHumano(x,y,tablero)\n",
    "        return nuevo_tablero\n",
    "    else:\n",
    "        print(\"No selecciono un GUARDIA, ¡Intentelo de nuevo!\")\n",
    "        nuevo_tablero = movimientoGuardiaHumano(tablero)\n",
    "        return nuevo_tablero"
   ]
  },
  {
   "cell_type": "markdown",
   "id": "ddbab650",
   "metadata": {},
   "source": [
    "#### Pruebas"
   ]
  },
  {
   "cell_type": "code",
   "execution_count": 146,
   "id": "d10aa821",
   "metadata": {},
   "outputs": [
    {
     "name": "stdout",
     "output_type": "stream",
     "text": [
      "\t\tJUEGO LOS TRES MOSQUETEROS\n",
      "\n",
      "-----------------------------------------\n",
      "|   G   |   G   |   G   |   G   |   M   |   \n",
      "-----------------------------------------\n",
      "|   G   |   G   |   G   |   G   |   G   |   \n",
      "-----------------------------------------\n",
      "|   G   |   G   |   M   |   G   |   G   |   \n",
      "-----------------------------------------\n",
      "|   G   |   G   |   G   |   G   |   G   |   \n",
      "-----------------------------------------\n",
      "|   M   |   G   |   G   |   G   |   G   |   \n",
      "-----------------------------------------\n",
      "\n",
      "\n",
      "\tMovimiento MOSQUETERO\n",
      "-----------------------------------------\n",
      "|   G   |   G   |   G   |   G   |       |   \n",
      "-----------------------------------------\n",
      "|   G   |   G   |   G   |   G   |   M   |   \n",
      "-----------------------------------------\n",
      "|   G   |   G   |   M   |   G   |   G   |   \n",
      "-----------------------------------------\n",
      "|   G   |   G   |   G   |   G   |   G   |   \n",
      "-----------------------------------------\n",
      "|   M   |   G   |   G   |   G   |   G   |   \n",
      "-----------------------------------------\n",
      "\n",
      "\n",
      "\tMovimiento GUARDIA\n",
      "-----------------------------------------\n",
      "|   G   |   G   |   G   |       |   G   |   \n",
      "-----------------------------------------\n",
      "|   G   |   G   |   G   |   G   |   M   |   \n",
      "-----------------------------------------\n",
      "|   G   |   G   |   M   |   G   |   G   |   \n",
      "-----------------------------------------\n",
      "|   G   |   G   |   G   |   G   |   G   |   \n",
      "-----------------------------------------\n",
      "|   M   |   G   |   G   |   G   |   G   |   \n",
      "-----------------------------------------\n",
      "\n",
      "\n"
     ]
    }
   ],
   "source": [
    "# PRUEBAS\n",
    "tablero = [[1, 1, 1, 1, 10], [1, 1, 1, 1, 1], [1, 1, 10, 1, 1], [1, 1, 1, 1, 1], [10, 1, 1, 1, 1]]\n",
    "print(\"\\t\\tJUEGO LOS TRES MOSQUETEROS\\n\")\n",
    "imprimir_tablero(tablero)\n",
    "print(\"\\tMovimiento MOSQUETERO\")\n",
    "imprimir_tablero(movimientoMosqueteroHumano(tablero)) # Mosquetero\n",
    "print(\"\\tMovimiento GUARDIA\")\n",
    "imprimir_tablero(movimientoGuardiaHumano(tablero)) # Guardia"
   ]
  },
  {
   "cell_type": "code",
   "execution_count": null,
   "id": "8055a007",
   "metadata": {},
   "outputs": [],
   "source": []
  },
  {
   "cell_type": "code",
   "execution_count": null,
   "id": "6f7d9ff6",
   "metadata": {},
   "outputs": [],
   "source": []
  }
 ],
 "metadata": {
  "kernelspec": {
   "display_name": "Python 3.9.12 ('IA')",
   "language": "python",
   "name": "python3"
  },
  "language_info": {
   "codemirror_mode": {
    "name": "ipython",
    "version": 3
   },
   "file_extension": ".py",
   "mimetype": "text/x-python",
   "name": "python",
   "nbconvert_exporter": "python",
   "pygments_lexer": "ipython3",
   "version": "3.9.12"
  },
  "vscode": {
   "interpreter": {
    "hash": "47a1649adfc58314e58c4d276ffe3ebc8bd116eb46a6f09ef850e338f9461feb"
   }
  }
 },
 "nbformat": 4,
 "nbformat_minor": 5
}
